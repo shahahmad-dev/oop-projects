{
 "cells": [
  {
   "cell_type": "code",
   "execution_count": null,
   "id": "bbf53f47",
   "metadata": {},
   "outputs": [
    {
     "ename": "",
     "evalue": "",
     "output_type": "error",
     "traceback": [
      "\u001b[1;31mRunning cells with 'Python 2.7.16' requires the ipykernel package.\n",
      "\u001b[1;31mInstall 'ipykernel' into the Python environment. \n",
      "\u001b[1;31mCommand: '/usr/bin/python -m pip install ipykernel -U --user --force-reinstall'"
     ]
    }
   ],
   "source": [
    "class Student:\n",
    "    def __init__(self, name):\n",
    "        self.name = name\n",
    "\n",
    "s1 = Student('ali')\n",
    "#s1.name('ali')\n",
    "print(s1.name)\n",
    "\n",
    "del s1\n",
    "print(s1.name)"
   ]
  },
  {
   "cell_type": "code",
   "execution_count": null,
   "id": "fd072aff",
   "metadata": {},
   "outputs": [
    {
     "ename": "",
     "evalue": "",
     "output_type": "error",
     "traceback": [
      "\u001b[1;31mRunning cells with 'Python 2.7.16' requires the ipykernel package.\n",
      "\u001b[1;31m<a href='command:jupyter.createPythonEnvAndSelectController'>Create a Python Environment</a> with the required packages."
     ]
    }
   ],
   "source": [
    "class Student:\n",
    "    def __init__(self, name, no):\n",
    "        self.name = name\n",
    "        self.num = no\n",
    "\n",
    "s1 = Student('ali', '221')\n",
    "print(s1.name, s1.num)\n",
    "\n",
    "# del Student\n",
    "\n",
    "\n",
    "s1 = Student('ali', '221')\n",
    "del s1.name\n",
    "print(s1.name, s1.num)"
   ]
  }
 ],
 "metadata": {
  "kernelspec": {
   "display_name": "Python 3",
   "language": "python",
   "name": "python3"
  },
  "language_info": {
   "name": "python",
   "version": "2.7.16"
  }
 },
 "nbformat": 4,
 "nbformat_minor": 5
}
