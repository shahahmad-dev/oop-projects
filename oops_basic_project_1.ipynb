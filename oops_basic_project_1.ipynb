{
 "cells": [
  {
   "cell_type": "code",
   "execution_count": 2,
   "id": "bbf53f47",
   "metadata": {},
   "outputs": [
    {
     "name": "stdout",
     "output_type": "stream",
     "text": [
      "ali\n"
     ]
    },
    {
     "ename": "NameError",
     "evalue": "name 's1' is not defined",
     "output_type": "error",
     "traceback": [
      "\u001b[0;31m---------------------------------------------------------------------------\u001b[0m",
      "\u001b[0;31mNameError\u001b[0m                                 Traceback (most recent call last)",
      "Cell \u001b[0;32mIn[2], line 11\u001b[0m\n\u001b[1;32m      7\u001b[0m \u001b[38;5;28mprint\u001b[39m(s1\u001b[38;5;241m.\u001b[39mname)\n\u001b[1;32m      9\u001b[0m \u001b[38;5;28;01mdel\u001b[39;00m s1\n\u001b[0;32m---> 11\u001b[0m \u001b[38;5;28mprint\u001b[39m(\u001b[43ms1\u001b[49m\u001b[38;5;241m.\u001b[39mname)\n",
      "\u001b[0;31mNameError\u001b[0m: name 's1' is not defined"
     ]
    }
   ],
   "source": [
    "class Student:\n",
    "    def __init__(self, name):\n",
    "        self.name = name\n",
    "\n",
    "s1 = Student('ali')\n",
    "#s1.name('ali')\n",
    "print(s1.name)\n",
    "\n",
    "del s1\n",
    "\n",
    "print(s1.name)"
   ]
  },
  {
   "cell_type": "code",
   "execution_count": null,
   "id": "fd072aff",
   "metadata": {},
   "outputs": [
    {
     "name": "stdout",
     "output_type": "stream",
     "text": [
      "ali 221\n"
     ]
    },
    {
     "ename": "AttributeError",
     "evalue": "'Student' object has no attribute 'name'",
     "output_type": "error",
     "traceback": [
      "\u001b[0;31m---------------------------------------------------------------------------\u001b[0m",
      "\u001b[0;31mAttributeError\u001b[0m                            Traceback (most recent call last)",
      "Cell \u001b[0;32mIn[6], line 14\u001b[0m\n\u001b[1;32m     12\u001b[0m s1 \u001b[38;5;241m=\u001b[39m Student(\u001b[38;5;124m'\u001b[39m\u001b[38;5;124mali\u001b[39m\u001b[38;5;124m'\u001b[39m, \u001b[38;5;124m'\u001b[39m\u001b[38;5;124m221\u001b[39m\u001b[38;5;124m'\u001b[39m)\n\u001b[1;32m     13\u001b[0m \u001b[38;5;28;01mdel\u001b[39;00m s1\u001b[38;5;241m.\u001b[39mname\n\u001b[0;32m---> 14\u001b[0m \u001b[38;5;28mprint\u001b[39m(\u001b[43ms1\u001b[49m\u001b[38;5;241;43m.\u001b[39;49m\u001b[43mname\u001b[49m, s1\u001b[38;5;241m.\u001b[39mnum)\n",
      "\u001b[0;31mAttributeError\u001b[0m: 'Student' object has no attribute 'name'"
     ]
    }
   ],
   "source": [
    "class Student:\n",
    "    def __init__(self, name, no):\n",
    "        self.name = name\n",
    "        self.num = no\n",
    "\n",
    "s1 = Student('ali', '221')\n",
    "print(s1.name, s1.num)\n",
    "\n",
    "# del Student\n",
    "\n",
    "\n",
    "s1 = Student('ali', '221')\n",
    "del s1.name\n",
    "print(s1.name, s1.num)"
   ]
  },
  {
   "cell_type": "code",
   "execution_count": null,
   "id": "7f258baa",
   "metadata": {},
   "outputs": [],
   "source": [
    "def greet(a,b):\n",
    "    return a+b\n",
    "\n",
    "s2 = greet(4,6)\n",
    "s2"
   ]
  },
  {
   "cell_type": "code",
   "execution_count": 4,
   "id": "719943a1",
   "metadata": {},
   "outputs": [
    {
     "name": "stdout",
     "output_type": "stream",
     "text": [
      "12435\n",
      "None\n"
     ]
    }
   ],
   "source": [
    "class Account:\n",
    "    def __init__(self, acc_no, acc_pass):\n",
    "        self.acc_no = acc_no\n",
    "        self.__acc_pass = acc_pass\n",
    "\n",
    "    def reset_pass(self):\n",
    "        print( self.__acc_pass)\n",
    "\n",
    "s1 = Account('21232', 12435)\n",
    "\n",
    "\n",
    "print(s1 . reset_pass())\n"
   ]
  },
  {
   "cell_type": "code",
   "execution_count": 5,
   "id": "0e2987cf",
   "metadata": {},
   "outputs": [
    {
     "name": "stdout",
     "output_type": "stream",
     "text": [
      "ali ahmd\n"
     ]
    }
   ],
   "source": [
    "class Your_ex:\n",
    "    def __init__(self, ex_name, ex_add):\n",
    "        self.__ex_name = ex_name\n",
    "        self.__ex_add = ex_add\n",
    "\n",
    "    def hack(self):\n",
    "        return(self.__ex_name)\n",
    "\n",
    "\n",
    "lover = Your_ex('ali ahmd', 'uni town')\n",
    "# print(lover.e)\n",
    "\n",
    "print(lover.hack())"
   ]
  },
  {
   "cell_type": "code",
   "execution_count": 6,
   "id": "f7659551",
   "metadata": {},
   "outputs": [
    {
     "name": "stdout",
     "output_type": "stream",
     "text": [
      "Good moring:)\n",
      "None\n"
     ]
    }
   ],
   "source": [
    "class Person:\n",
    "    __name = 'anonymous'\n",
    "\n",
    "    def __hello(self):\n",
    "        print('Good moring:)')\n",
    "\n",
    "    def welcome(self):\n",
    "        self.__hello()\n",
    "\n",
    "p1 = Person()\n",
    "print(p1.welcome())\n"
   ]
  },
  {
   "cell_type": "code",
   "execution_count": 7,
   "id": "64ecee8d",
   "metadata": {},
   "outputs": [
    {
     "name": "stdout",
     "output_type": "stream",
     "text": [
      "car start..\n"
     ]
    }
   ],
   "source": [
    "\n",
    "class Car:\n",
    "    @staticmethod\n",
    "    def start():\n",
    "        print('car start..')\n",
    "\n",
    "    @staticmethod\n",
    "    def stop():\n",
    "        print('car stop...')\n",
    "\n",
    "class ToyotaCar(Car):\n",
    "    def __init__(self, brand):\n",
    "        self.brand = brand\n",
    "\n",
    "\n",
    "class Furtuner(ToyotaCar):\n",
    "    def __init__(self, shape):\n",
    "        self.shape = shape\n",
    "    \n",
    "\n",
    "car1  = Furtuner('taxi')\n",
    "\n",
    "# print(car1.shape())\n",
    "\n",
    "car1.start()\n",
    "\n",
    "\n"
   ]
  },
  {
   "cell_type": "code",
   "execution_count": 8,
   "id": "d58dfb9f",
   "metadata": {},
   "outputs": [
    {
     "name": "stdout",
     "output_type": "stream",
     "text": [
      "welcome to class A\n",
      "welcome to class B\n",
      "welcome to class C\n"
     ]
    }
   ],
   "source": [
    "class A:\n",
    "    varA = 'welcome to class A'\n",
    "\n",
    "class B:\n",
    "    varB = 'welcome to class B'\n",
    "\n",
    "class C(A,B):\n",
    "    varC = 'welcome to class C'\n",
    "\n",
    "\n",
    "c1= A()\n",
    "print(c1.varA)\n",
    "\n",
    "\n",
    "c1= B()\n",
    "print(c1.varB)\n",
    "\n",
    "\n",
    "c1= C()\n",
    "print(c1.varC)"
   ]
  },
  {
   "cell_type": "code",
   "execution_count": null,
   "id": "5b697e74",
   "metadata": {},
   "outputs": [
    {
     "name": "stdout",
     "output_type": "stream",
     "text": [
      "car is start...\n",
      "electroic\n"
     ]
    }
   ],
   "source": [
    "class Car():\n",
    "    def __init__(self, typex):\n",
    "        self.typex = typex\n",
    "\n",
    "    @staticmethod\n",
    "    def start():\n",
    "        print('car is start...')\n",
    "\n",
    "    @staticmethod\n",
    "    def stop():\n",
    "        print('car is stop...')\n",
    "\n",
    "class ToyotaCar(Car):\n",
    "    def __init__(self, name, typex): # here the typex why is important\n",
    "         super().__init__(typex)\n",
    "         super().start()\n",
    "         self.name = name\n",
    "       \n",
    "\n",
    "        \n",
    "car1 = ToyotaCar('XLI', 'electroic')\n",
    "print(car1.typex)\n",
    "\n",
    "\n"
   ]
  },
  {
   "cell_type": "code",
   "execution_count": 9,
   "id": "689db4cc",
   "metadata": {},
   "outputs": [
    {
     "name": "stdout",
     "output_type": "stream",
     "text": [
      "ali\n"
     ]
    },
    {
     "data": {
      "text/plain": [
       "'ali'"
      ]
     },
     "execution_count": 9,
     "metadata": {},
     "output_type": "execute_result"
    }
   ],
   "source": [
    "class Person():\n",
    "\n",
    "    name = 'anonymous'\n",
    "\n",
    "    # def ChangeName(self, name):\n",
    "    #     #Person.name = name\n",
    "    #     self.__class__.name = name\n",
    "\n",
    "    @classmethod\n",
    "    def ChangeName(cls, name):\n",
    "        cls.name = name\n",
    "\n",
    "p1= Person()\n",
    "\n",
    "p1.ChangeName('ali')\n",
    "print(p1.name)\n",
    "Person.name\n",
    "\n"
   ]
  },
  {
   "cell_type": "code",
   "execution_count": 10,
   "id": "a51c1abf",
   "metadata": {},
   "outputs": [
    {
     "ename": "TypeError",
     "evalue": "'float' object is not callable",
     "output_type": "error",
     "traceback": [
      "\u001b[0;31m---------------------------------------------------------------------------\u001b[0m",
      "\u001b[0;31mTypeError\u001b[0m                                 Traceback (most recent call last)",
      "Cell \u001b[0;32mIn[10], line 12\u001b[0m\n\u001b[1;32m      9\u001b[0m         \u001b[38;5;28;01mreturn\u001b[39;00m (\u001b[38;5;28mself\u001b[39m\u001b[38;5;241m.\u001b[39mphy\u001b[38;5;241m+\u001b[39m\u001b[38;5;28mself\u001b[39m\u001b[38;5;241m.\u001b[39mmath\u001b[38;5;241m+\u001b[39m\u001b[38;5;28mself\u001b[39m\u001b[38;5;241m.\u001b[39mchem)\u001b[38;5;241m/\u001b[39m\u001b[38;5;241m3\u001b[39m\n\u001b[1;32m     11\u001b[0m p1 \u001b[38;5;241m=\u001b[39m Person(\u001b[38;5;241m32\u001b[39m,\u001b[38;5;241m67\u001b[39m,\u001b[38;5;241m98\u001b[39m)\n\u001b[0;32m---> 12\u001b[0m \u001b[38;5;28mprint\u001b[39m(\u001b[43mp1\u001b[49m\u001b[38;5;241;43m.\u001b[39;49m\u001b[43mcalPercentage\u001b[49m\u001b[43m(\u001b[49m\u001b[43m)\u001b[49m)\n\u001b[1;32m     14\u001b[0m \u001b[38;5;28mprint\u001b[39m(\u001b[38;5;124m'\u001b[39m\u001b[38;5;124m         \u001b[39m\u001b[38;5;124m'\u001b[39m)\n\u001b[1;32m     15\u001b[0m p1 \u001b[38;5;241m.\u001b[39mphy \u001b[38;5;241m=\u001b[39m \u001b[38;5;241m98\u001b[39m\n",
      "\u001b[0;31mTypeError\u001b[0m: 'float' object is not callable"
     ]
    }
   ],
   "source": [
    "class Person:\n",
    "    def __init__(self, phy, math, chem):\n",
    "        self.phy = phy\n",
    "        self.math = math\n",
    "        self.chem = chem\n",
    "        \n",
    "    @property\n",
    "    def calPercentage(self):\n",
    "        return (self.phy+self.math+self.chem)/3\n",
    "\n",
    "p1 = Person(32,67,98)\n",
    "print(p1.calPercentage())\n",
    "\n",
    "print('         ')\n",
    "p1 .phy = 98\n",
    "print(p1.calPercentage())"
   ]
  },
  {
   "cell_type": "code",
   "execution_count": 11,
   "id": "04ade904",
   "metadata": {},
   "outputs": [
    {
     "name": "stdout",
     "output_type": "stream",
     "text": [
      "testing change\n"
     ]
    }
   ],
   "source": [
    "print(\"testing change\")\n"
   ]
  },
  {
   "cell_type": "code",
   "execution_count": null,
   "id": "cef41cef",
   "metadata": {},
   "outputs": [],
   "source": []
  }
 ],
 "metadata": {
  "kernelspec": {
   "display_name": ".venv",
   "language": "python",
   "name": "python3"
  },
  "language_info": {
   "codemirror_mode": {
    "name": "ipython",
    "version": 3
   },
   "file_extension": ".py",
   "mimetype": "text/x-python",
   "name": "python",
   "nbconvert_exporter": "python",
   "pygments_lexer": "ipython3",
   "version": "3.8.10"
  }
 },
 "nbformat": 4,
 "nbformat_minor": 5
}
